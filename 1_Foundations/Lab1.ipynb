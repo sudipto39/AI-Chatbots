{
 "cells": [
  {
   "cell_type": "code",
   "execution_count": 5,
   "id": "b440bd03",
   "metadata": {},
   "outputs": [],
   "source": [
    "import ollama\n",
    "   \n",
    "messages = [{\"role\": \"user\", \"content\": \"What is 2+2?\"}]"
   ]
  },
  {
   "cell_type": "code",
   "execution_count": 6,
   "id": "5d416d00",
   "metadata": {},
   "outputs": [
    {
     "name": "stdout",
     "output_type": "stream",
     "text": [
      "2 + 2 = 4.\n"
     ]
    }
   ],
   "source": [
    "response = ollama.chat(\n",
    "       model='llama3.2',\n",
    "       messages=[\n",
    "           {'role': 'user', 'content': 'What is 2+2?'}\n",
    "       ]\n",
    "   )\n",
    "print(response['message']['content'])"
   ]
  },
  {
   "cell_type": "code",
   "execution_count": 7,
   "id": "bd5c73d0",
   "metadata": {},
   "outputs": [],
   "source": [
    "# And now - let's ask for a question:\n",
    "\n",
    "question = \"Please propose a hard, challenging question to assess someone's IQ. Respond only with the question.\"\n",
    "messages = [{\"role\": \"user\", \"content\": question}]"
   ]
  },
  {
   "cell_type": "code",
   "execution_count": 8,
   "id": "edc77fde",
   "metadata": {},
   "outputs": [
    {
     "name": "stdout",
     "output_type": "stream",
     "text": [
      "A mathematician is standing in a room with two light switches. One switch controls a light in a room that is currently off, but is located on the other side of a solid wall. The second switch controls a light in a room that is currently on, but is located in the same room as the mathematician. However, the mathematician cannot see either light switch. He can turn the lights on and off as many times as he wants, but only during the day when the room is visible through a small window. How can the mathematician figure out which switch corresponds to which light?\n"
     ]
    }
   ],
   "source": [
    "response = ollama.chat(\n",
    "    model=\"llama3.2\",\n",
    "    messages=messages\n",
    ")\n",
    "question=response['message']['content']\n",
    "\n",
    "print(question)"
   ]
  },
  {
   "cell_type": "code",
   "execution_count": 9,
   "id": "6155f2d1",
   "metadata": {},
   "outputs": [],
   "source": [
    "messages = [{\"role\": \"user\", \"content\": question}]"
   ]
  },
  {
   "cell_type": "code",
   "execution_count": 10,
   "id": "c5fb550a",
   "metadata": {},
   "outputs": [
    {
     "name": "stdout",
     "output_type": "stream",
     "text": [
      "This is a classic problem in mathematics known as \"The Hardest Logic Puzzle Ever.\" The solution involves using two steps of observation and deduction.\n",
      "\n",
      "Here's how to solve it:\n",
      "\n",
      "Step 1: Turn switch 1 (the one controlling the light on the other side of the wall) ON for 5 minutes. Then, turn it OFF. Immediately go into the room with the light that is currently ON (switch 2). Note the color of the light.\n",
      "\n",
      "Step 2: Now, go back to the starting point and turn switch 1 BACK ON. Again, immediately go into the room with the light that is now ON. Note the new color of the light.\n",
      "\n",
      "Now, here's what you need to do:\n",
      "\n",
      "- If the light in the first room (controlled by switch 2) was originally OFF, but turned ON when you turned switch 1 ON for 5 minutes, then switch 1 corresponds to the light in the second room.\n",
      "- If the light in the first room (controlled by switch 2) remained ON after you turned switch 1 OFF and was still ON when you went back to turn it ON again, then switch 1 does NOT correspond to the light in the second room.\n",
      "\n",
      "This solution works because of a property of light bulbs. Most incandescent bulbs have a filament that heats up and glows red hot when they are turned ON for an extended period (like 5 minutes). This is known as \"red hot glow.\" However, most fluorescent bulbs turn OFF immediately if they're turned ON for more than a few seconds. The LED bulbs tend to be different. When the bulb is first turned on it will appear white or very close to that but after being turned off then back on the LED turns an orange/yellowish color.\n",
      "\n",
      "The fact that you observed a change in color from one observation step to another tells you which switch corresponds to which light.\n"
     ]
    }
   ],
   "source": [
    "response = ollama.chat(\n",
    "    model=\"llama3.2\",\n",
    "    messages=messages\n",
    ")\n",
    "\n",
    "answer = (response['message']['content'])\n",
    "print(answer)"
   ]
  },
  {
   "cell_type": "code",
   "execution_count": 11,
   "id": "1eafee01",
   "metadata": {},
   "outputs": [
    {
     "data": {
      "text/markdown": [
       "This is a classic problem in mathematics known as \"The Hardest Logic Puzzle Ever.\" The solution involves using two steps of observation and deduction.\n",
       "\n",
       "Here's how to solve it:\n",
       "\n",
       "Step 1: Turn switch 1 (the one controlling the light on the other side of the wall) ON for 5 minutes. Then, turn it OFF. Immediately go into the room with the light that is currently ON (switch 2). Note the color of the light.\n",
       "\n",
       "Step 2: Now, go back to the starting point and turn switch 1 BACK ON. Again, immediately go into the room with the light that is now ON. Note the new color of the light.\n",
       "\n",
       "Now, here's what you need to do:\n",
       "\n",
       "- If the light in the first room (controlled by switch 2) was originally OFF, but turned ON when you turned switch 1 ON for 5 minutes, then switch 1 corresponds to the light in the second room.\n",
       "- If the light in the first room (controlled by switch 2) remained ON after you turned switch 1 OFF and was still ON when you went back to turn it ON again, then switch 1 does NOT correspond to the light in the second room.\n",
       "\n",
       "This solution works because of a property of light bulbs. Most incandescent bulbs have a filament that heats up and glows red hot when they are turned ON for an extended period (like 5 minutes). This is known as \"red hot glow.\" However, most fluorescent bulbs turn OFF immediately if they're turned ON for more than a few seconds. The LED bulbs tend to be different. When the bulb is first turned on it will appear white or very close to that but after being turned off then back on the LED turns an orange/yellowish color.\n",
       "\n",
       "The fact that you observed a change in color from one observation step to another tells you which switch corresponds to which light."
      ],
      "text/plain": [
       "<IPython.core.display.Markdown object>"
      ]
     },
     "metadata": {},
     "output_type": "display_data"
    }
   ],
   "source": [
    "from IPython.display import Markdown, display\n",
    "\n",
    "display(Markdown(answer))"
   ]
  }
 ],
 "metadata": {
  "kernelspec": {
   "display_name": "Python 3",
   "language": "python",
   "name": "python3"
  },
  "language_info": {
   "codemirror_mode": {
    "name": "ipython",
    "version": 3
   },
   "file_extension": ".py",
   "mimetype": "text/x-python",
   "name": "python",
   "nbconvert_exporter": "python",
   "pygments_lexer": "ipython3",
   "version": "3.11.9"
  }
 },
 "nbformat": 4,
 "nbformat_minor": 5
}
