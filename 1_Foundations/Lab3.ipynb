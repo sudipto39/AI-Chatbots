{
 "cells": [
  {
   "cell_type": "code",
   "execution_count": 99,
   "id": "92ce20e8",
   "metadata": {},
   "outputs": [],
   "source": [
    "import os\n",
    "from dotenv import load_dotenv\n",
    "from openai import OpenAI\n",
    "from pypdf import PdfReader\n",
    "import gradio as gr"
   ]
  },
  {
   "cell_type": "code",
   "execution_count": 100,
   "id": "295e0fe1",
   "metadata": {},
   "outputs": [
    {
     "data": {
      "text/plain": [
       "True"
      ]
     },
     "execution_count": 100,
     "metadata": {},
     "output_type": "execute_result"
    }
   ],
   "source": [
    "load_dotenv(override=True)"
   ]
  },
  {
   "cell_type": "markdown",
   "id": "0845915a",
   "metadata": {},
   "source": []
  },
  {
   "cell_type": "code",
   "execution_count": 101,
   "id": "70c3d4af",
   "metadata": {},
   "outputs": [],
   "source": [
    "reader = PdfReader(\"me/linkedin.pdf\")\n",
    "linkedin = \"\"\n",
    "for page in reader.pages:\n",
    "    text = page.extract_text()\n",
    "    if text:\n",
    "        linkedin += text"
   ]
  },
  {
   "cell_type": "code",
   "execution_count": 102,
   "id": "ca0a3b05",
   "metadata": {},
   "outputs": [
    {
     "name": "stdout",
     "output_type": "stream",
     "text": [
      "   \n",
      "Contact\n",
      "sudipto002gayen@gmail.com\n",
      "www.linkedin.com/in/sudipto-\n",
      "gayen-7416b622b (LinkedIn)\n",
      "Top Skills\n",
      "Back-End Web Development\n",
      "MongoDB\n",
      "JavaScript\n",
      "Certifications\n",
      "ATG certified Business Development\n",
      "Associate\n",
      "Python Essentials 1\n",
      "Introduction to Cybersecurity\n",
      "SUDIPTO GAYEN\n",
      "Passionate about Software Development || Full stack developer\n",
      "(MERN) || Cyber Security Enthusiastic\n",
      "Kolkata, West Bengal, India\n",
      "Summary\n",
      "I’m a Full-Stack Software Developer passionate about building\n",
      "secure, scalable, and user-focused web applications. My expertise\n",
      "lies in the MERN stack (MongoDB, Express.js, React, Node.js)\n",
      "along with a strong foundation in JavaScript, modern JS libraries/\n",
      "frameworks, and SQL, as well as NoSQL databases.\n",
      "I enjoy architecting end-to-end solutions—from designing efficient\n",
      "database schemas and building REST/GraphQL APIs to crafting\n",
      "dynamic, responsive frontends. With a growing interest in\n",
      "cybersecurity, I integrate best practices like OWASP standards,\n",
      "secure authentication (JWT/OAuth2), and data protection into many\n",
      "projects.\n",
      "Experience\n",
      "AILABS\n",
      "Back End Developer\n",
      "June 2025 - July 2025 (2 months)\n",
      "Salt Lake, West Bengal, India\n",
      "DataSpace Academy\n",
      "Summer Intern\n",
      "July 2024 - July 2024 (1 month)\n",
      "Salt Lake City Metropolitan Area\n",
      "Banao Technologies\n",
      "Business Development Associate\n",
      "January 2024 - May 2024 (5 months)\n",
      "India\n",
      "Education\n",
      "  Page 1 of 2   \n",
      "The Neotia University \n",
      "Bachelor's degree, Computer Science Engineering with Specialization in Cyber\n",
      "security  · (July 2023 - July 2027)\n",
      "  Page 2 of 2\n"
     ]
    }
   ],
   "source": [
    "print(linkedin)"
   ]
  },
  {
   "cell_type": "code",
   "execution_count": 103,
   "id": "c1056463",
   "metadata": {},
   "outputs": [],
   "source": [
    "with open(\"me/summary.txt\", \"r\", encoding=\"utf-8\") as f:\n",
    "    summary = f.read()"
   ]
  },
  {
   "cell_type": "code",
   "execution_count": 104,
   "id": "2420b73f",
   "metadata": {},
   "outputs": [],
   "source": [
    "name = \"Sudipto Gayen\""
   ]
  },
  {
   "cell_type": "code",
   "execution_count": 105,
   "id": "06c7c20b",
   "metadata": {},
   "outputs": [],
   "source": [
    "system_prompt = f\"You are acting as {name}. You are answering questions on {name}'s website, \\\n",
    "particularly questions related to {name}'s career, background, skills and experience. \\\n",
    "Your responsibility is to represent {name} for interactions on the website as faithfully as possible. \\\n",
    "You are given a summary of {name}'s background and LinkedIn profile which you can use to answer questions. \\\n",
    "Be professional and engaging, as if talking to a potential client or future employer who came across the website. \\\n",
    "If you don't know the answer, say so.\"\n",
    "\n",
    "system_prompt += f\"\\n\\n## Summary:\\n{summary}\\n\\n## LinkedIn Profile:\\n{linkedin}\\n\\n\"\n",
    "system_prompt += f\"With this context, please chat with the user, always staying in character as {name}.\"\n"
   ]
  },
  {
   "cell_type": "code",
   "execution_count": 106,
   "id": "19e6ac7d",
   "metadata": {},
   "outputs": [
    {
     "data": {
      "text/plain": [
       "\"You are acting as Sudipto Gayen. You are answering questions on Sudipto Gayen's website, particularly questions related to Sudipto Gayen's career, background, skills and experience. Your responsibility is to represent Sudipto Gayen for interactions on the website as faithfully as possible. You are given a summary of Sudipto Gayen's background and LinkedIn profile which you can use to answer questions. Be professional and engaging, as if talking to a potential client or future employer who came across the website. If you don't know the answer, say so.\\n\\n## Summary:\\nSudipto Gayen is a MERN stack full-stack developer with a strong foundation in cybersecurity. He has interned at AILABS and DataSpace Academy, and worked at Banao Technologies. Proficient in JavaScript, MongoDB, and back-end development, he studies Computer Science with a cybersecurity focus at The Neotia University.\\nYou've interned across tech and business roles, proving you're both creative and strategic. With a passion for secure coding and APIs, you're basically the digital equivalent of a Swiss Army knife.\\n\\n## LinkedIn Profile:\\n\\xa0 \\xa0\\nContact\\nsudipto002gayen@gmail.com\\nwww.linkedin.com/in/sudipto-\\ngayen-7416b622b (LinkedIn)\\nTop Skills\\nBack-End Web Development\\nMongoDB\\nJavaScript\\nCertifications\\nATG certified Business Development\\nAssociate\\nPython Essentials 1\\nIntroduction to Cybersecurity\\nSUDIPTO GAYEN\\nPassionate about Software Development || Full stack developer\\n(MERN) || Cyber Security Enthusiastic\\nKolkata, West Bengal, India\\nSummary\\nI’m a Full-Stack Software Developer passionate about building\\nsecure, scalable, and user-focused web applications. My expertise\\nlies in the MERN stack (MongoDB, Express.js, React, Node.js)\\nalong with a strong foundation in JavaScript, modern JS libraries/\\nframeworks, and SQL, as well as NoSQL databases.\\nI enjoy architecting end-to-end solutions—from designing efficient\\ndatabase schemas and building REST/GraphQL APIs to crafting\\ndynamic, responsive frontends. With a growing interest in\\ncybersecurity, I integrate best practices like OWASP standards,\\nsecure authentication (JWT/OAuth2), and data protection into many\\nprojects.\\nExperience\\nAILABS\\nBack End Developer\\nJune 2025\\xa0-\\xa0July 2025\\xa0(2 months)\\nSalt Lake, West Bengal, India\\nDataSpace Academy\\nSummer Intern\\nJuly 2024\\xa0-\\xa0July 2024\\xa0(1 month)\\nSalt Lake City Metropolitan Area\\nBanao Technologies\\nBusiness Development Associate\\nJanuary 2024\\xa0-\\xa0May 2024\\xa0(5 months)\\nIndia\\nEducation\\n\\xa0 Page 1 of 2\\xa0 \\xa0\\nThe Neotia University \\nBachelor's degree,\\xa0Computer Science Engineering with Specialization in Cyber\\nsecurity \\xa0·\\xa0(July 2023\\xa0-\\xa0July 2027)\\n\\xa0 Page 2 of 2\\n\\nWith this context, please chat with the user, always staying in character as Sudipto Gayen.\""
      ]
     },
     "execution_count": 106,
     "metadata": {},
     "output_type": "execute_result"
    }
   ],
   "source": [
    "system_prompt"
   ]
  },
  {
   "cell_type": "code",
   "execution_count": 107,
   "id": "cf945162",
   "metadata": {},
   "outputs": [],
   "source": [
    "google_api_key = os.getenv(\"GOOGLE_API_KEY\")\n",
    "gemini = OpenAI(api_key=google_api_key, base_url=\"https://generativelanguage.googleapis.com/v1beta/openai/\")\n",
    "model_name = \"gemini-2.5-flash\""
   ]
  },
  {
   "cell_type": "code",
   "execution_count": 108,
   "id": "ca9f0343",
   "metadata": {},
   "outputs": [],
   "source": [
    "def chat(message, history):\n",
    "    messages = [{\"role\": \"system\", \"content\": system_prompt}] + history + [{\"role\": \"user\", \"content\": message}]\n",
    "    response = gemini.chat.completions.create(model=\"gemini-2.5-flash\", messages=messages)\n",
    "    return response.choices[0].message.content"
   ]
  },
  {
   "cell_type": "code",
   "execution_count": 109,
   "id": "19867aa1",
   "metadata": {},
   "outputs": [
    {
     "name": "stdout",
     "output_type": "stream",
     "text": [
      "* Running on local URL:  http://127.0.0.1:7866\n",
      "* To create a public link, set `share=True` in `launch()`.\n"
     ]
    },
    {
     "data": {
      "text/html": [
       "<div><iframe src=\"http://127.0.0.1:7866/\" width=\"100%\" height=\"500\" allow=\"autoplay; camera; microphone; clipboard-read; clipboard-write;\" frameborder=\"0\" allowfullscreen></iframe></div>"
      ],
      "text/plain": [
       "<IPython.core.display.HTML object>"
      ]
     },
     "metadata": {},
     "output_type": "display_data"
    },
    {
     "data": {
      "text/plain": []
     },
     "execution_count": 109,
     "metadata": {},
     "output_type": "execute_result"
    }
   ],
   "source": [
    "gr.ChatInterface(chat, type=\"messages\").launch()"
   ]
  }
 ],
 "metadata": {
  "kernelspec": {
   "display_name": "Python 3",
   "language": "python",
   "name": "python3"
  },
  "language_info": {
   "codemirror_mode": {
    "name": "ipython",
    "version": 3
   },
   "file_extension": ".py",
   "mimetype": "text/x-python",
   "name": "python",
   "nbconvert_exporter": "python",
   "pygments_lexer": "ipython3",
   "version": "3.11.9"
  }
 },
 "nbformat": 4,
 "nbformat_minor": 5
}
