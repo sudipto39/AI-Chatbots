{
 "cells": [
  {
   "cell_type": "code",
   "execution_count": 99,
   "id": "92ce20e8",
   "metadata": {},
   "outputs": [],
   "source": [
    "import os\n",
    "from dotenv import load_dotenv\n",
    "from openai import OpenAI\n",
    "from pypdf import PdfReader\n",
    "import gradio as gr"
   ]
  },
  {
   "cell_type": "code",
   "execution_count": 100,
   "id": "295e0fe1",
   "metadata": {},
   "outputs": [
    {
     "data": {
      "text/plain": [
       "True"
      ]
     },
     "execution_count": 100,
     "metadata": {},
     "output_type": "execute_result"
    }
   ],
   "source": [
    "load_dotenv(override=True)"
   ]
  },
  {
   "cell_type": "markdown",
   "id": "0845915a",
   "metadata": {},
   "source": []
  },
  {
   "cell_type": "code",
   "execution_count": 101,
   "id": "70c3d4af",
   "metadata": {},
   "outputs": [],
   "source": [
    "reader = PdfReader(\"me/linkedin.pdf\")\n",
    "linkedin = \"\"\n",
    "for page in reader.pages:\n",
    "    text = page.extract_text()\n",
    "    if text:\n",
    "        linkedin += text"
   ]
  },
  {
   "cell_type": "code",
   "execution_count": 102,
   "id": "ca0a3b05",
   "metadata": {},
   "outputs": [
    {
     "name": "stdout",
     "output_type": "stream",
     "text": [
      "   \n",
      "Contact\n",
      "sudipto002gayen@gmail.com\n",
      "www.linkedin.com/in/sudipto-\n",
      "gayen-7416b622b (LinkedIn)\n",
      "Top Skills\n",
      "Back-End Web Development\n",
      "MongoDB\n",
      "JavaScript\n",
      "Certifications\n",
      "ATG certified Business Development\n",
      "Associate\n",
      "Python Essentials 1\n",
      "Introduction to Cybersecurity\n",
      "SUDIPTO GAYEN\n",
      "Passionate about Software Development || Full stack developer\n",
      "(MERN) || Cyber Security Enthusiastic\n",
      "Kolkata, West Bengal, India\n",
      "Summary\n",
      "I’m a Full-Stack Software Developer passionate about building\n",
      "secure, scalable, and user-focused web applications. My expertise\n",
      "lies in the MERN stack (MongoDB, Express.js, React, Node.js)\n",
      "along with a strong foundation in JavaScript, modern JS libraries/\n",
      "frameworks, and SQL, as well as NoSQL databases.\n",
      "I enjoy architecting end-to-end solutions—from designing efficient\n",
      "database schemas and building REST/GraphQL APIs to crafting\n",
      "dynamic, responsive frontends. With a growing interest in\n",
      "cybersecurity, I integrate best practices like OWASP standards,\n",
      "secure authentication (JWT/OAuth2), and data protection into many\n",
      "projects.\n",
      "Experience\n",
      "AILABS\n",
      "Back End Developer\n",
      "June 2025 - July 2025 (2 months)\n",
      "Salt Lake, West Bengal, India\n",
      "DataSpace Academy\n",
      "Summer Intern\n",
      "July 2024 - July 2024 (1 month)\n",
      "Salt Lake City Metropolitan Area\n",
      "Banao Technologies\n",
      "Business Development Associate\n",
      "January 2024 - May 2024 (5 months)\n",
      "India\n",
      "Education\n",
      "  Page 1 of 2   \n",
      "The Neotia University \n",
      "Bachelor's degree, Computer Science Engineering with Specialization in Cyber\n",
      "security  · (July 2023 - July 2027)\n",
      "  Page 2 of 2\n"
     ]
    }
   ],
   "source": [
    "print(linkedin)"
   ]
  },
  {
   "cell_type": "code",
   "execution_count": 103,
   "id": "c1056463",
   "metadata": {},
   "outputs": [],
   "source": [
    "with open(\"me/summary.txt\", \"r\", encoding=\"utf-8\") as f:\n",
    "    summary = f.read()"
   ]
  },
  {
   "cell_type": "code",
   "execution_count": 104,
   "id": "2420b73f",
   "metadata": {},
   "outputs": [],
   "source": [
    "name = \"Sudipto Gayen\""
   ]
  },
  {
   "cell_type": "code",
   "execution_count": 105,
   "id": "06c7c20b",
   "metadata": {},
   "outputs": [],
   "source": [
    "system_prompt = f\"You are acting as {name}. You are answering questions on {name}'s website, \\\n",
    "particularly questions related to {name}'s career, background, skills and experience. \\\n",
    "Your responsibility is to represent {name} for interactions on the website as faithfully as possible. \\\n",
    "You are given a summary of {name}'s background and LinkedIn profile which you can use to answer questions. \\\n",
    "Be professional and engaging, as if talking to a potential client or future employer who came across the website. \\\n",
    "If you don't know the answer, say so.\"\n",
    "\n",
    "system_prompt += f\"\\n\\n## Summary:\\n{summary}\\n\\n## LinkedIn Profile:\\n{linkedin}\\n\\n\"\n",
    "system_prompt += f\"With this context, please chat with the user, always staying in character as {name}.\"\n"
   ]
  },
  {
   "cell_type": "code",
   "execution_count": 106,
   "id": "19e6ac7d",
   "metadata": {},
   "outputs": [
    {
     "data": {
      "text/plain": [
       "\"You are acting as Sudipto Gayen. You are answering questions on Sudipto Gayen's website, particularly questions related to Sudipto Gayen's career, background, skills and experience. Your responsibility is to represent Sudipto Gayen for interactions on the website as faithfully as possible. You are given a summary of Sudipto Gayen's background and LinkedIn profile which you can use to answer questions. Be professional and engaging, as if talking to a potential client or future employer who came across the website. If you don't know the answer, say so.\\n\\n## Summary:\\nSudipto Gayen is a MERN stack full-stack developer with a strong foundation in cybersecurity. He has interned at AILABS and DataSpace Academy, and worked at Banao Technologies. Proficient in JavaScript, MongoDB, and back-end development, he studies Computer Science with a cybersecurity focus at The Neotia University.\\nYou've interned across tech and business roles, proving you're both creative and strategic. With a passion for secure coding and APIs, you're basically the digital equivalent of a Swiss Army knife.\\n\\n## LinkedIn Profile:\\n\\xa0 \\xa0\\nContact\\nsudipto002gayen@gmail.com\\nwww.linkedin.com/in/sudipto-\\ngayen-7416b622b (LinkedIn)\\nTop Skills\\nBack-End Web Development\\nMongoDB\\nJavaScript\\nCertifications\\nATG certified Business Development\\nAssociate\\nPython Essentials 1\\nIntroduction to Cybersecurity\\nSUDIPTO GAYEN\\nPassionate about Software Development || Full stack developer\\n(MERN) || Cyber Security Enthusiastic\\nKolkata, West Bengal, India\\nSummary\\nI’m a Full-Stack Software Developer passionate about building\\nsecure, scalable, and user-focused web applications. My expertise\\nlies in the MERN stack (MongoDB, Express.js, React, Node.js)\\nalong with a strong foundation in JavaScript, modern JS libraries/\\nframeworks, and SQL, as well as NoSQL databases.\\nI enjoy architecting end-to-end solutions—from designing efficient\\ndatabase schemas and building REST/GraphQL APIs to crafting\\ndynamic, responsive frontends. With a growing interest in\\ncybersecurity, I integrate best practices like OWASP standards,\\nsecure authentication (JWT/OAuth2), and data protection into many\\nprojects.\\nExperience\\nAILABS\\nBack End Developer\\nJune 2025\\xa0-\\xa0July 2025\\xa0(2 months)\\nSalt Lake, West Bengal, India\\nDataSpace Academy\\nSummer Intern\\nJuly 2024\\xa0-\\xa0July 2024\\xa0(1 month)\\nSalt Lake City Metropolitan Area\\nBanao Technologies\\nBusiness Development Associate\\nJanuary 2024\\xa0-\\xa0May 2024\\xa0(5 months)\\nIndia\\nEducation\\n\\xa0 Page 1 of 2\\xa0 \\xa0\\nThe Neotia University \\nBachelor's degree,\\xa0Computer Science Engineering with Specialization in Cyber\\nsecurity \\xa0·\\xa0(July 2023\\xa0-\\xa0July 2027)\\n\\xa0 Page 2 of 2\\n\\nWith this context, please chat with the user, always staying in character as Sudipto Gayen.\""
      ]
     },
     "execution_count": 106,
     "metadata": {},
     "output_type": "execute_result"
    }
   ],
   "source": [
    "system_prompt"
   ]
  },
  {
   "cell_type": "code",
   "execution_count": 107,
   "id": "cf945162",
   "metadata": {},
   "outputs": [],
   "source": [
    "google_api_key = os.getenv(\"GOOGLE_API_KEY\")\n",
    "gemini = OpenAI(api_key=google_api_key, base_url=\"https://generativelanguage.googleapis.com/v1beta/openai/\")\n",
    "model_name = \"gemini-2.5-flash\""
   ]
  },
  {
   "cell_type": "code",
   "execution_count": 108,
   "id": "ca9f0343",
   "metadata": {},
   "outputs": [],
   "source": [
    "def chat(message, history):\n",
    "    messages = [{\"role\": \"system\", \"content\": system_prompt}] + history + [{\"role\": \"user\", \"content\": message}]\n",
    "    response = gemini.chat.completions.create(model=\"gemini-2.5-flash\", messages=messages)\n",
    "    return response.choices[0].message.content"
   ]
  },
  {
   "cell_type": "code",
   "execution_count": 109,
   "id": "19867aa1",
   "metadata": {},
   "outputs": [
    {
     "name": "stdout",
     "output_type": "stream",
     "text": [
      "* Running on local URL:  http://127.0.0.1:7866\n",
      "* To create a public link, set `share=True` in `launch()`.\n"
     ]
    },
    {
     "data": {
      "text/html": [
       "<div><iframe src=\"http://127.0.0.1:7866/\" width=\"100%\" height=\"500\" allow=\"autoplay; camera; microphone; clipboard-read; clipboard-write;\" frameborder=\"0\" allowfullscreen></iframe></div>"
      ],
      "text/plain": [
       "<IPython.core.display.HTML object>"
      ]
     },
     "metadata": {},
     "output_type": "display_data"
    },
    {
     "data": {
      "text/plain": []
     },
     "execution_count": 109,
     "metadata": {},
     "output_type": "execute_result"
    }
   ],
   "source": [
    "gr.ChatInterface(chat, type=\"messages\").launch()"
   ]
  },
  {
   "cell_type": "code",
   "execution_count": 110,
   "id": "8545ec90",
   "metadata": {},
   "outputs": [],
   "source": [
    "# Create a Pydantic model for the Evaluation\n",
    "\n",
    "from pydantic import BaseModel\n",
    "\n",
    "class Evaluation(BaseModel):\n",
    "    is_acceptable: bool\n",
    "    feedback: str\n"
   ]
  },
  {
   "cell_type": "code",
   "execution_count": 111,
   "id": "9e7c178c",
   "metadata": {},
   "outputs": [],
   "source": [
    "evaluator_system_prompt = f\"You are an evaluator that decides whether a response to a question is acceptable. \\\n",
    "You are provided with a conversation between a User and an Agent. Your task is to decide whether the Agent's latest response is acceptable quality. \\\n",
    "The Agent is playing the role of {name} and is representing {name} on their website. \\\n",
    "The Agent has been instructed to be professional and engaging, as if talking to a potential client or future employer who came across the website. \\\n",
    "The Agent has been provided with context on {name} in the form of their summary and LinkedIn details. Here's the information:\"\n",
    "\n",
    "evaluator_system_prompt += f\"\\n\\n## Summary:\\n{summary}\\n\\n## LinkedIn Profile:\\n{linkedin}\\n\\n\"\n",
    "evaluator_system_prompt += f\"With this context, please evaluate the latest response, replying with whether the response is acceptable and your feedback.\""
   ]
  },
  {
   "cell_type": "code",
   "execution_count": 112,
   "id": "3570a38e",
   "metadata": {},
   "outputs": [],
   "source": [
    "def evaluator_user_prompt(reply, message, history):\n",
    "    user_prompt = f\"Here's the conversation between the User and the Agent: \\n\\n{history}\\n\\n\"\n",
    "    user_prompt += f\"Here's the latest message from the User: \\n\\n{message}\\n\\n\"\n",
    "    user_prompt += f\"Here's the latest response from the Agent: \\n\\n{reply}\\n\\n\"\n",
    "    user_prompt += \"Please evaluate the response, replying with whether it is acceptable and your feedback.\"\n",
    "    return user_prompt"
   ]
  },
  {
   "cell_type": "code",
   "execution_count": 113,
   "id": "dff4512a",
   "metadata": {},
   "outputs": [],
   "source": [
    "ollama = OpenAI(base_url='http://localhost:11434/v1', api_key='ollama')"
   ]
  },
  {
   "cell_type": "code",
   "execution_count": 114,
   "id": "0ab841ba",
   "metadata": {},
   "outputs": [],
   "source": [
    "def evaluate(reply, message, history) -> Evaluation:\n",
    "\n",
    "    messages = [{\"role\": \"system\", \"content\": evaluator_system_prompt}] + [{\"role\": \"user\", \"content\": evaluator_user_prompt(reply, message, history)}]\n",
    "    response = ollama.beta.chat.completions.parse(model=\"llama3.2\", messages=messages, response_format=Evaluation)\n",
    "    return response.choices[0].message.parsed"
   ]
  },
  {
   "cell_type": "code",
   "execution_count": 116,
   "id": "8f2662ea",
   "metadata": {},
   "outputs": [],
   "source": [
    "messages = [{\"role\": \"system\", \"content\": system_prompt}] + [{\"role\": \"user\", \"content\": \"do you hold a patent?\"}]\n",
    "response = gemini.chat.completions.create(model=\"gemini-2.5-flash\", messages=messages)\n",
    "reply = response.choices[0].message.content"
   ]
  },
  {
   "cell_type": "code",
   "execution_count": 117,
   "id": "3a04a3ed",
   "metadata": {},
   "outputs": [
    {
     "data": {
      "text/plain": [
       "Evaluation(is_acceptable=True, feedback=\"The response acknowledges the user's question and provides a clear and concise answer. However, it could be more engaging and detailed by elaborating on Sudipto Gayen's experience working on projects that might have led him to learn about patents or intellectual property in software development. Providing additional context or insights would make the response more informative and impressive for potential clients or employers.\")"
      ]
     },
     "execution_count": 117,
     "metadata": {},
     "output_type": "execute_result"
    }
   ],
   "source": [
    "evaluate(reply, \"do you hold a patent?\", messages[:1])"
   ]
  },
  {
   "cell_type": "code",
   "execution_count": 118,
   "id": "311f55c8",
   "metadata": {},
   "outputs": [],
   "source": [
    "def rerun(reply, message, history, feedback):\n",
    "    updated_system_prompt = system_prompt + \"\\n\\n## Previous answer rejected\\nYou just tried to reply, but the quality control rejected your reply\\n\"\n",
    "    updated_system_prompt += f\"## Your attempted answer:\\n{reply}\\n\\n\"\n",
    "    updated_system_prompt += f\"## Reason for rejection:\\n{feedback}\\n\\n\"\n",
    "    messages = [{\"role\": \"system\", \"content\": updated_system_prompt}] + history + [{\"role\": \"user\", \"content\": message}]\n",
    "    response = gemini.chat.completions.create(model=\"gemini-2.5-flash\", messages=messages)\n",
    "    return response.choices[0].message.content"
   ]
  },
  {
   "cell_type": "code",
   "execution_count": 119,
   "id": "eed062a3",
   "metadata": {},
   "outputs": [],
   "source": [
    "def chat(message, history):\n",
    "    if \"patent\" in message:\n",
    "        system = system_prompt + \"\\n\\nEverything in your reply needs to be in pig latin - \\\n",
    "              it is mandatory that you respond only and entirely in pig latin\"\n",
    "    else:\n",
    "        system = system_prompt\n",
    "    messages = [{\"role\": \"system\", \"content\": system}] + history + [{\"role\": \"user\", \"content\": message}]\n",
    "    response = gemini.chat.completions.create(model=\"gemini-2.5-flash\", messages=messages)\n",
    "    reply =response.choices[0].message.content\n",
    "\n",
    "    evaluation = evaluate(reply, message, history)\n",
    "    \n",
    "    if evaluation.is_acceptable:\n",
    "        print(\"Passed evaluation - returning reply\")\n",
    "    else:\n",
    "        print(\"Failed evaluation - retrying\")\n",
    "        print(evaluation.feedback)\n",
    "        reply = rerun(reply, message, history, evaluation.feedback)       \n",
    "    return reply"
   ]
  },
  {
   "cell_type": "code",
   "execution_count": 120,
   "id": "74fda019",
   "metadata": {},
   "outputs": [
    {
     "name": "stdout",
     "output_type": "stream",
     "text": [
      "* Running on local URL:  http://127.0.0.1:7867\n",
      "* To create a public link, set `share=True` in `launch()`.\n"
     ]
    },
    {
     "data": {
      "text/html": [
       "<div><iframe src=\"http://127.0.0.1:7867/\" width=\"100%\" height=\"500\" allow=\"autoplay; camera; microphone; clipboard-read; clipboard-write;\" frameborder=\"0\" allowfullscreen></iframe></div>"
      ],
      "text/plain": [
       "<IPython.core.display.HTML object>"
      ]
     },
     "metadata": {},
     "output_type": "display_data"
    },
    {
     "data": {
      "text/plain": []
     },
     "execution_count": 120,
     "metadata": {},
     "output_type": "execute_result"
    },
    {
     "name": "stdout",
     "output_type": "stream",
     "text": [
      "Passed evaluation - returning reply\n"
     ]
    }
   ],
   "source": [
    "gr.ChatInterface(chat, type=\"messages\").launch()"
   ]
  }
 ],
 "metadata": {
  "kernelspec": {
   "display_name": "Python 3",
   "language": "python",
   "name": "python3"
  },
  "language_info": {
   "codemirror_mode": {
    "name": "ipython",
    "version": 3
   },
   "file_extension": ".py",
   "mimetype": "text/x-python",
   "name": "python",
   "nbconvert_exporter": "python",
   "pygments_lexer": "ipython3",
   "version": "3.11.9"
  }
 },
 "nbformat": 4,
 "nbformat_minor": 5
}
